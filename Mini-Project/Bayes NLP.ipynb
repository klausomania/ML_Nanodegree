{
 "cells": [
  {
   "cell_type": "code",
   "execution_count": 1,
   "metadata": {
    "collapsed": true
   },
   "outputs": [],
   "source": [
    "sample_memo = '''\n",
    "Milt, we're gonna need to go ahead and move you downstairs into storage B. We have some new people coming in, and we need all the space we can get. So if you could just go ahead and pack up your stuff and move it down there, that would be terrific, OK?\n",
    "Oh, and remember: next Friday... is Hawaiian shirt day. So, you know, if you want to, go ahead and wear a Hawaiian shirt and jeans.\n",
    "Oh, oh, and I almost forgot. Ahh, I'm also gonna need you to go ahead and come in on Sunday, too...\n",
    "Hello Peter, whats happening? Ummm, I'm gonna need you to go ahead and come in tomorrow. So if you could be here around 9 that would be great, mmmk... oh oh! and I almost forgot ahh, I'm also gonna need you to go ahead and come in on Sunday too, kay. We ahh lost some people this week and ah, we sorta need to play catch up.\n",
    "'''"
   ]
  },
  {
   "cell_type": "code",
   "execution_count": 57,
   "metadata": {},
   "outputs": [],
   "source": [
    "def NextWordProbability(sampletext,word):\n",
    "    \n",
    "    wordlist = sampletext.split()\n",
    "    \n",
    "    dictionary = dict.fromkeys(wordlist)\n",
    "    #Set all entries to 0\n",
    "    dictionary=dict.fromkeys(dictionary, 0)\n",
    "    # print wordlist\n",
    "   # print type(dictionary)\n",
    "    \n",
    "    n=0\n",
    "    for i in wordlist:\n",
    "        if wordlist[n-1]==word:\n",
    "            dictionary[i] += 1\n",
    "        n+=1\n",
    "    print dictionary    \n",
    "    return {dictionary}"
   ]
  },
  {
   "cell_type": "code",
   "execution_count": 59,
   "metadata": {},
   "outputs": [
    {
     "name": "stdout",
     "output_type": "stream",
     "text": [
      "{'all': 0, 'whats': 0, 'just': 0, 'too,': 0, 'move': 2, 'terrific,': 0, 'down': 0, 'catch': 0, 'Sunday': 0, 'Sunday,': 0, 'go': 0, 'know,': 0, 'your': 0, 'Oh,': 0, 'We': 0, 'would': 0, 'Ummm,': 0, 'ahh': 0, 'next': 0, 'to': 0, 'remember:': 1, \"we're\": 0, 'into': 0, 'around': 0, 'that': 0, 'gonna': 0, 'So': 0, 'tomorrow.': 0, \"I'm\": 0, 'jeans.': 1, 'downstairs': 0, 'great,': 0, 'play': 0, 'ah,': 1, 'get.': 0, 'lost': 0, 'this': 0, 'B.': 0, 'up': 0, 'there,': 0, 'kay.': 0, 'stuff': 0, 'can': 0, 'to,': 0, 'pack': 1, 'and': 0, 'oh,': 0, 'on': 0, 'want': 0, 'people': 0, 'almost': 0, 'is': 0, 'in': 0, 'some': 0, 'it': 0, 'OK?': 0, 'need': 0, 'have': 0, 'forgot': 0, 'Friday...': 0, 'Milt,': 0, 'if': 0, 'shirt': 0, 'Hawaiian': 0, 'space': 0, 'sorta': 0, 'storage': 0, 'So,': 0, 'day.': 0, 'also': 0, 'ahh,': 0, 'too...': 0, '9': 0, 'new': 0, 'you': 0, 'week': 0, 'be': 0, 'we': 1, 'up.': 0, 'I': 2, 'oh!': 0, 'here': 0, 'Peter,': 0, 'Ahh,': 0, 'wear': 1, 'coming': 0, 'forgot.': 0, 'mmmk...': 0, 'come': 3, 'Hello': 0, 'a': 0, 'in,': 0, 'ahead': 0, 'oh': 0, 'could': 0, 'happening?': 0, 'the': 0}\n"
     ]
    },
    {
     "ename": "TypeError",
     "evalue": "unhashable type: 'dict'",
     "output_type": "error",
     "traceback": [
      "\u001b[1;31m---------------------------------------------------------------------------\u001b[0m",
      "\u001b[1;31mTypeError\u001b[0m                                 Traceback (most recent call last)",
      "\u001b[1;32m<ipython-input-59-66962f7814e4>\u001b[0m in \u001b[0;36m<module>\u001b[1;34m()\u001b[0m\n\u001b[1;32m----> 1\u001b[1;33m \u001b[0mNextWordProbability\u001b[0m\u001b[1;33m(\u001b[0m\u001b[0msample_memo\u001b[0m\u001b[1;33m,\u001b[0m\u001b[1;34m\"and\"\u001b[0m\u001b[1;33m)\u001b[0m\u001b[1;33m\u001b[0m\u001b[0m\n\u001b[0m",
      "\u001b[1;32m<ipython-input-57-396b5896c62c>\u001b[0m in \u001b[0;36mNextWordProbability\u001b[1;34m(sampletext, word)\u001b[0m\n\u001b[0;32m     15\u001b[0m         \u001b[0mn\u001b[0m\u001b[1;33m+=\u001b[0m\u001b[1;36m1\u001b[0m\u001b[1;33m\u001b[0m\u001b[0m\n\u001b[0;32m     16\u001b[0m     \u001b[1;32mprint\u001b[0m \u001b[0mdictionary\u001b[0m\u001b[1;33m\u001b[0m\u001b[0m\n\u001b[1;32m---> 17\u001b[1;33m     \u001b[1;32mreturn\u001b[0m \u001b[1;33m{\u001b[0m\u001b[0mdictionary\u001b[0m\u001b[1;33m}\u001b[0m\u001b[1;33m\u001b[0m\u001b[0m\n\u001b[0m",
      "\u001b[1;31mTypeError\u001b[0m: unhashable type: 'dict'"
     ]
    }
   ],
   "source": [
    "NextWordProbability(sample_memo,\"and\")\n"
   ]
  },
  {
   "cell_type": "code",
   "execution_count": null,
   "metadata": {
    "collapsed": true
   },
   "outputs": [],
   "source": []
  }
 ],
 "metadata": {
  "kernelspec": {
   "display_name": "Python 2",
   "language": "python",
   "name": "python2"
  },
  "language_info": {
   "codemirror_mode": {
    "name": "ipython",
    "version": 2
   },
   "file_extension": ".py",
   "mimetype": "text/x-python",
   "name": "python",
   "nbconvert_exporter": "python",
   "pygments_lexer": "ipython2",
   "version": "2.7.13"
  }
 },
 "nbformat": 4,
 "nbformat_minor": 2
}
